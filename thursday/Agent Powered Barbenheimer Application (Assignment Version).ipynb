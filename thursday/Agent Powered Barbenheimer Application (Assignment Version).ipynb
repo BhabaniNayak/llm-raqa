{
 "cells": [
  {
   "cell_type": "markdown",
   "metadata": {},
   "source": [
    "# Questioning Barbie and Oppenheimer Through the Use of Agents\n",
    "\n",
    "In the following notebook we will build an application that queries both the Barbie and Oppenheimer movies Wikipedia pages, as well as their reviews. \n",
    "\n",
    "The main focus of this notebook is to showcase a brief introduction to Agents.\n",
    "\n",
    "## Build 🏗️\n",
    "\n",
    "There are 3 main tasks in this notebook:\n",
    "\n",
    "1. Contruct a Barbie retriever\n",
    "2. Construct an Oppenheimer retriever\n",
    "3. Combine the two and allow users to query both resources from a single input through the use of Agents\n",
    "\n",
    "## Ship 🚢\n",
    "\n",
    "Based on Tuesday's session - construct a Chainlit (or Gradio) application that allows users to interface with the application.\n",
    "\n",
    "## Share 🚀\n",
    "\n",
    "Make a social media post about your final application."
   ]
  },
  {
   "cell_type": "markdown",
   "metadata": {},
   "source": [
    "### Dependencies\n",
    "\n",
    "As always, let's start with some dependencies!"
   ]
  },
  {
   "cell_type": "code",
   "execution_count": 1,
   "metadata": {},
   "outputs": [],
   "source": [
    "# !pip install -q -U langchain openai"
   ]
  },
  {
   "cell_type": "code",
   "execution_count": 2,
   "metadata": {},
   "outputs": [],
   "source": [
    "import getpass\n",
    "import os\n",
    "openai_api_key = getpass.getpass(\"Enter your OpenAI API Key: \")\n",
    "os.environ[\"OPENAI_API_KEY\"] = openai_api_key"
   ]
  },
  {
   "cell_type": "markdown",
   "metadata": {},
   "source": [
    "### LLM \n",
    "\n",
    "We will be leveraging OpenAI's `gpt-3.5-turbo` throughout the notebook, and we can keep it consistent throughout!"
   ]
  },
  {
   "cell_type": "code",
   "execution_count": 3,
   "metadata": {},
   "outputs": [],
   "source": [
    "from langchain.chat_models import ChatOpenAI\n",
    "llm = ChatOpenAI(model=\"gpt-3.5-turbo\", temperature = 0)"
   ]
  },
  {
   "cell_type": "markdown",
   "metadata": {},
   "source": [
    "### Data Collection and Transformation\n",
    "\n",
    "We'll be leveraging the `WikipediaLoader` tool to collect information from Wikipedia. \n",
    "\n",
    "Be sure to set the `doc_content_chars_max` parameter so that you capture the *entire* Wikipedia article content."
   ]
  },
  {
   "cell_type": "code",
   "execution_count": 3,
   "metadata": {},
   "outputs": [],
   "source": [
    "# !pip install -q -U wikipedia"
   ]
  },
  {
   "cell_type": "code",
   "execution_count": 14,
   "metadata": {},
   "outputs": [
    {
     "name": "stderr",
     "output_type": "stream",
     "text": [
      "/Users/bnayak/miniconda3/envs/llmops-week1/lib/python3.11/site-packages/wikipedia/wikipedia.py:389: GuessedAtParserWarning: No parser was explicitly specified, so I'm using the best available HTML parser for this system (\"lxml\"). This usually isn't a problem, but if you run this code on another system, or in a different virtual environment, it may use a different parser and behave differently.\n",
      "\n",
      "The code that caused this warning is on line 389 of the file /Users/bnayak/miniconda3/envs/llmops-week1/lib/python3.11/site-packages/wikipedia/wikipedia.py. To get rid of this warning, pass the additional argument 'features=\"lxml\"' to the BeautifulSoup constructor.\n",
      "\n",
      "  lis = BeautifulSoup(html).find_all('li')\n"
     ]
    }
   ],
   "source": [
    "from langchain.document_loaders import WikipediaLoader, CSVLoader\n",
    "\n",
    "barbie_wikipedia_docs = WikipediaLoader(\n",
    "    query=\"Barbie (film)\", \n",
    "    load_max_docs=100, # YOUR CODE HERE, \n",
    "    doc_content_chars_max=100000 ### YOUR CODE HERE\n",
    "    ).load()\n",
    "\n",
    "barbie_csv_docs = CSVLoader(\n",
    "    file_path=\"./barbie_data/barbie.csv\", ### YOUR CODE HERE, \n",
    "    source_column=\"Review_Url\" ### YOUR CODE HERE\n",
    "    ).load()"
   ]
  },
  {
   "cell_type": "code",
   "execution_count": 15,
   "metadata": {},
   "outputs": [
    {
     "name": "stdout",
     "output_type": "stream",
     "text": [
      " Barbie wikipedia length = 9, Barbie csv length = 125\n"
     ]
    }
   ],
   "source": [
    "print(f' Barbie wikipedia length = {len(barbie_wikipedia_docs)}, Barbie csv length = {len(barbie_csv_docs)}')"
   ]
  },
  {
   "cell_type": "markdown",
   "metadata": {},
   "source": [
    "Since we'll be using same format source documentation separated by topic, we can save ourselves some extra effort and set up our splitters once. \n",
    "\n",
    "We're going to leverage the `RecursiveCharacterTextSplitter` again, this time paying close attention to the format our Wikipedia articles and reviews are in so we can be sure to chunk them appropritately. \n",
    "\n",
    "> HINT: You can pass a list of separators when you intialize your `RecursiveTextSplitter`! They are acted on in order of element 0 -> element len(list).\n",
    "\n",
    "RELEVANT DOCS:\n",
    "- [`RecursiveCharacterTextSplitter`](https://api.python.langchain.com/en/latest/text_splitter/langchain.text_splitter.RecursiveCharacterTextSplitter.html#langchain.text_splitter.RecursiveCharacterTextSplitter)"
   ]
  },
  {
   "cell_type": "code",
   "execution_count": 16,
   "metadata": {},
   "outputs": [],
   "source": [
    "from langchain.text_splitter import RecursiveCharacterTextSplitter\n",
    "\n",
    "wikipedia_text_splitter = RecursiveCharacterTextSplitter(\n",
    "    chunk_size = 1000, ### YOUR CODE HERE,\n",
    "    chunk_overlap = 100, ### YOUR CODE HERE,\n",
    "    length_function = len, ### YOUR CODE HERE,\n",
    "    is_separator_regex= False,\n",
    "    separators = ['\\n==', '\\n', ' '] ### YOUR CODE HERE # keep headings, then paragraphs, then sentences\n",
    ")\n",
    "\n",
    "csv_text_splitter = RecursiveCharacterTextSplitter(\n",
    "    chunk_size = 1000, ### YOUR CODE HERE,\n",
    "    chunk_overlap = 100, ### YOUR CODE HERE,\n",
    "    length_function = len, ### YOUR CODE HERE,\n",
    "    is_separator_regex= False,\n",
    "    separators = ['\\n', ' '] ### YOUR CODE HERE # keep paragraphs, then sentences\n",
    ")\n",
    "\n",
    "chunked_barbie_wikipedia_docs = wikipedia_text_splitter.transform_documents(barbie_wikipedia_docs) ### YOUR CODE HERE\n",
    "chunked_barbie_csv_docs = csv_text_splitter.transform_documents(barbie_csv_docs) ### YOUR CODE HERE"
   ]
  },
  {
   "cell_type": "code",
   "execution_count": 17,
   "metadata": {},
   "outputs": [
    {
     "name": "stdout",
     "output_type": "stream",
     "text": [
      "357\n",
      "181\n"
     ]
    }
   ],
   "source": [
    "print(len(chunked_barbie_wikipedia_docs))\n",
    "print(len(chunked_barbie_csv_docs))"
   ]
  },
  {
   "cell_type": "markdown",
   "metadata": {},
   "source": [
    "#### Retrieval and Embedding Strategy\n",
    "\n",
    "We've already discussed the useful application of `CacheBackedEmbeddings`, so let's do it again!\n",
    "\n",
    "RELEVANT DOCS:\n",
    "- [`CacheBackedEmbeddings`](https://api.python.langchain.com/en/latest/embeddings/langchain.embeddings.cache.CacheBackedEmbeddings.html#langchain-embeddings-cache-cachebackedembeddings)"
   ]
  },
  {
   "cell_type": "code",
   "execution_count": 11,
   "metadata": {},
   "outputs": [],
   "source": [
    "# !pip install -q -U rank_bm25 tiktoken faiss-cpu"
   ]
  },
  {
   "cell_type": "code",
   "execution_count": 18,
   "metadata": {},
   "outputs": [],
   "source": [
    "from langchain.retrievers import BM25Retriever, EnsembleRetriever\n",
    "from langchain.vectorstores import FAISS\n",
    "from langchain.embeddings.openai import OpenAIEmbeddings\n",
    "from langchain.embeddings import CacheBackedEmbeddings\n",
    "from langchain.storage import LocalFileStore\n",
    "\n",
    "# set up cached embeddings store\n",
    "store = LocalFileStore(\"./cache/\")### YOUR CODE HERE\n",
    "\n",
    "core_embeddings_model = OpenAIEmbeddings() ### YOUR CODE HERE\n",
    "\n",
    "embedder = CacheBackedEmbeddings.from_bytes_store(\n",
    "    core_embeddings_model,\n",
    "    store,\n",
    "    namespace=core_embeddings_model.model ### YOUR CODE HERE\n",
    ")\n",
    " ### YOUR CODE HERE"
   ]
  },
  {
   "cell_type": "markdown",
   "metadata": {},
   "source": [
    "We'll implement a `FAISS` vectorstore, and create a retriever from it."
   ]
  },
  {
   "cell_type": "code",
   "execution_count": 19,
   "metadata": {},
   "outputs": [],
   "source": [
    "barbie_csv_faiss_retriever = FAISS.from_documents(chunked_barbie_csv_docs, embedder).as_retriever() ### YOUR CODE HERE"
   ]
  },
  {
   "cell_type": "markdown",
   "metadata": {},
   "source": [
    "There are a number of excellent options to retrieve documents - we'll be looking at an additional example today, which is called the `EnsembleRetriever`.\n",
    "\n",
    "The method this is using is outlined in [this paper](https://plg.uwaterloo.ca/~gvcormac/cormacksigir09-rrf.pdf).\n",
    "\n",
    "The brief explanation is:\n",
    "\n",
    "1. We collect results from two different retrieval methods over the same corpus\n",
    "2. We apply a reranking algorithm to rerank our source documents to be the *most relevant* without losing specific or potentially low-ranked information rich documents\n",
    "3. We feed the top-k results into the LLM with our query as context.\n",
    "\n",
    "> HINT: Your weight list should be of type `List[float]` and the `sum(List[float])` should be `1`."
   ]
  },
  {
   "cell_type": "code",
   "execution_count": 21,
   "metadata": {},
   "outputs": [],
   "source": [
    "# set up BM25 retriever\n",
    "barbie_wikipedia_bm25_retriever = BM25Retriever.from_documents(\n",
    "   chunked_barbie_wikipedia_docs ### YOUR CODE HERE\n",
    ")\n",
    "barbie_wikipedia_bm25_retriever.k = 1\n",
    "\n",
    "# set up FAISS vector store\n",
    "# barbie_wikipedia_faiss_store = FAISS.from_documents(\n",
    "#     ### YOUR CODE HERE,\n",
    "#     ### YOUR CODE HERE\n",
    "# )\n",
    "# barbie_wikipedia_faiss_retriever = barbie_wikipedia_faiss_store.as_retriever(search_kwargs={\"k\": 1})\n",
    "\n",
    "# set up ensemble retriever\n",
    "barbie_ensemble_retriever = EnsembleRetriever(\n",
    "    retrievers=[barbie_csv_faiss_retriever, barbie_wikipedia_bm25_retriever], ### YOUR CODE HERE,\n",
    "    weights= [0.5, 0.5]### YOUR CODE HERE # should sum to 1\n",
    ")"
   ]
  },
  {
   "cell_type": "markdown",
   "metadata": {},
   "source": [
    "#### Retrieval Agent\n",
    "\n",
    "We can create a simple conversational retrieval Agent by using the built-ins provided by LangChain!\n",
    "\n",
    "> HINT: Be sure to provide good natural language descriptions of what the tool should be used for to get the best results.\n",
    "\n",
    "RELEVANT DOCS:\n",
    "- [`create_retriever_tool`](https://api.python.langchain.com/en/latest/agents/langchain.agents.agent_toolkits.conversational_retrieval.tool.create_retriever_tool.html#langchain.agents.agent_toolkits.conversational_retrieval.tool.create_retriever_tool)"
   ]
  },
  {
   "cell_type": "code",
   "execution_count": 22,
   "metadata": {},
   "outputs": [],
   "source": [
    "from langchain.agents.agent_toolkits import create_retriever_tool\n",
    "\n",
    "barbie_wikipedia_retrieval_tool = create_retriever_tool(\n",
    "    retriever = barbie_wikipedia_bm25_retriever, ### YOUR CODE HERE \n",
    "    name = \"Barbie_Wiki\", ### YOUR CODE HERE\n",
    "    description= \"Useful to Look up facts about the Barbie movie on Wikipedia\"### YOUR CODE HERE\n",
    ")\n",
    "\n",
    "barbie_csv_retrieval_tool = create_retriever_tool(\n",
    "    retriever = barbie_csv_faiss_retriever,\n",
    "    name = \"Barbie_Reviews\",\n",
    "    description = \"Useful to look up reviews about the Barbie movie in csv files\"\n",
    ")\n",
    "\n",
    "barbie_retriever_tools = [barbie_wikipedia_retrieval_tool, barbie_csv_retrieval_tool]### YOUR CODE HERE"
   ]
  },
  {
   "cell_type": "markdown",
   "metadata": {},
   "source": [
    "Now that we've created our tools, we can combined them into an agent!\n",
    "\n",
    "RELEVANT DOCS:\n",
    "- [`create_conversational_retrieval_agent`](https://api.python.langchain.com/en/latest/agents/langchain.agents.agent_toolkits.conversational_retrieval.openai_functions.create_conversational_retrieval_agent.html#langchain.agents.agent_toolkits.conversational_retrieval.openai_functions.create_conversational_retrieval_agent)"
   ]
  },
  {
   "cell_type": "code",
   "execution_count": 23,
   "metadata": {},
   "outputs": [],
   "source": [
    "from langchain.agents.agent_toolkits import create_conversational_retrieval_agent\n",
    "\n",
    "barbie_retriever_agent_executor = create_conversational_retrieval_agent(llm, barbie_retriever_tools, verbose=True) # YOUR CODE HERE"
   ]
  },
  {
   "cell_type": "code",
   "execution_count": 24,
   "metadata": {},
   "outputs": [
    {
     "name": "stdout",
     "output_type": "stream",
     "text": [
      "\n",
      "\n",
      "\u001b[1m> Entering new AgentExecutor chain...\u001b[0m\n",
      "\u001b[32;1m\u001b[1;3m\n",
      "Invoking: `Barbie_Reviews` with `Barbie`\n",
      "\n",
      "\n",
      "\u001b[0m\u001b[33;1m\u001b[1;3m[Document(page_content=\": 122\\nReview_Date: 30 July 2023\\nAuthor: walfordior\\nRating: 9\\nReview_Title: This is more than just a 'lighthearted comedy'\\nReview: Barbie is no longer just a toy; rather, this idea of 'Barbie' has evolved into one of the most famous and significant topics in the world at this moment in time. It is so much more than merely a toy. It will not longer be just 'a toy'\\nReview_Url: /review/rw9199947/?ref_=tt_urv\", metadata={'source': '/review/rw9199947/?ref_=tt_urv', 'row': 122}), Document(page_content='Barbie mainly for her character. Her speech was moving and she brought so much to her simple, yet relatable mom.', metadata={'source': '/review/rw9199947/?ref_=tt_urv', 'row': 119}), Document(page_content=': 64\\nReview_Date: 22 July 2023\\nAuthor: fernandoschiavi\\nRating: 5\\nReview_Title: \"Barbie\" is fun and visually beautiful, but unfortunately Barbie doll was dragged into the cultural war, used as a puppet by political militancy', metadata={'source': '/review/rw9199947/?ref_=tt_urv', 'row': 64}), Document(page_content=\": 39\\nReview_Date: 23 July 2023\\nAuthor: Anurag-Shetty\\nRating: 10\\nReview_Title: A wholesome delight!\\nReview: Barbie is based on Mattel's iconic plastic dolls of the same name. Barbie(Margot Robbie) lives a very happy life in Barbie Land, along with her fellow Barbies, Ken(Ryan Gosling) & his fellow Kens. Suddenly, Barbie goes through an existential crisis that makes her question Barbie Land & the truth of her existence.\\nReview_Url: /review/rw9199947/?ref_=tt_urv\", metadata={'source': '/review/rw9199947/?ref_=tt_urv', 'row': 39})]\u001b[0m\u001b[32;1m\u001b[1;3mBased on the reviews I found, it seems that people had mixed opinions about the movie Barbie. Some viewers found the movie to be more than just a lighthearted comedy and appreciated its philosophical elements. They believed that the movie explored deeper themes and ideas beyond being just a toy. One reviewer mentioned that Barbie goes through an existential crisis that makes her question Barbie Land and the truth of her existence.\n",
      "\n",
      "However, there were also viewers who felt that the movie dragged Barbie into the cultural war and used her as a puppet for political militancy. They may have found the philosophical elements to be unnecessary or forced.\n",
      "\n",
      "Overall, it seems that the movie Barbie has philosophical elements that some viewers appreciated, while others may have found them to be less enjoyable or relevant to the story.\u001b[0m\n",
      "\n",
      "\u001b[1m> Finished chain.\u001b[0m\n"
     ]
    },
    {
     "data": {
      "text/plain": [
       "{'input': 'Did people like Barbie, or did they find it too Philosphical? If they did, can you tell me why the movie is so Philosophical?',\n",
       " 'chat_history': [HumanMessage(content='Did people like Barbie, or did they find it too Philosphical? If they did, can you tell me why the movie is so Philosophical?', additional_kwargs={}, example=False),\n",
       "  AIMessage(content='', additional_kwargs={'function_call': {'name': 'Barbie_Reviews', 'arguments': '{\\n  \"__arg1\": \"Barbie\"\\n}'}}, example=False),\n",
       "  FunctionMessage(content='[Document(page_content=\": 122\\\\nReview_Date: 30 July 2023\\\\nAuthor: walfordior\\\\nRating: 9\\\\nReview_Title: This is more than just a \\'lighthearted comedy\\'\\\\nReview: Barbie is no longer just a toy; rather, this idea of \\'Barbie\\' has evolved into one of the most famous and significant topics in the world at this moment in time. It is so much more than merely a toy. It will not longer be just \\'a toy\\'\\\\nReview_Url: /review/rw9199947/?ref_=tt_urv\", metadata={\\'source\\': \\'/review/rw9199947/?ref_=tt_urv\\', \\'row\\': 122}), Document(page_content=\\'Barbie mainly for her character. Her speech was moving and she brought so much to her simple, yet relatable mom.\\', metadata={\\'source\\': \\'/review/rw9199947/?ref_=tt_urv\\', \\'row\\': 119}), Document(page_content=\\': 64\\\\nReview_Date: 22 July 2023\\\\nAuthor: fernandoschiavi\\\\nRating: 5\\\\nReview_Title: \"Barbie\" is fun and visually beautiful, but unfortunately Barbie doll was dragged into the cultural war, used as a puppet by political militancy\\', metadata={\\'source\\': \\'/review/rw9199947/?ref_=tt_urv\\', \\'row\\': 64}), Document(page_content=\": 39\\\\nReview_Date: 23 July 2023\\\\nAuthor: Anurag-Shetty\\\\nRating: 10\\\\nReview_Title: A wholesome delight!\\\\nReview: Barbie is based on Mattel\\'s iconic plastic dolls of the same name. Barbie(Margot Robbie) lives a very happy life in Barbie Land, along with her fellow Barbies, Ken(Ryan Gosling) & his fellow Kens. Suddenly, Barbie goes through an existential crisis that makes her question Barbie Land & the truth of her existence.\\\\nReview_Url: /review/rw9199947/?ref_=tt_urv\", metadata={\\'source\\': \\'/review/rw9199947/?ref_=tt_urv\\', \\'row\\': 39})]', additional_kwargs={}, name='Barbie_Reviews'),\n",
       "  AIMessage(content='Based on the reviews I found, it seems that people had mixed opinions about the movie Barbie. Some viewers found the movie to be more than just a lighthearted comedy and appreciated its philosophical elements. They believed that the movie explored deeper themes and ideas beyond being just a toy. One reviewer mentioned that Barbie goes through an existential crisis that makes her question Barbie Land and the truth of her existence.\\n\\nHowever, there were also viewers who felt that the movie dragged Barbie into the cultural war and used her as a puppet for political militancy. They may have found the philosophical elements to be unnecessary or forced.\\n\\nOverall, it seems that the movie Barbie has philosophical elements that some viewers appreciated, while others may have found them to be less enjoyable or relevant to the story.', additional_kwargs={}, example=False)],\n",
       " 'output': 'Based on the reviews I found, it seems that people had mixed opinions about the movie Barbie. Some viewers found the movie to be more than just a lighthearted comedy and appreciated its philosophical elements. They believed that the movie explored deeper themes and ideas beyond being just a toy. One reviewer mentioned that Barbie goes through an existential crisis that makes her question Barbie Land and the truth of her existence.\\n\\nHowever, there were also viewers who felt that the movie dragged Barbie into the cultural war and used her as a puppet for political militancy. They may have found the philosophical elements to be unnecessary or forced.\\n\\nOverall, it seems that the movie Barbie has philosophical elements that some viewers appreciated, while others may have found them to be less enjoyable or relevant to the story.',\n",
       " 'intermediate_steps': [(_FunctionsAgentAction(tool='Barbie_Reviews', tool_input='Barbie', log='\\nInvoking: `Barbie_Reviews` with `Barbie`\\n\\n\\n', message_log=[AIMessage(content='', additional_kwargs={'function_call': {'name': 'Barbie_Reviews', 'arguments': '{\\n  \"__arg1\": \"Barbie\"\\n}'}}, example=False)]),\n",
       "   [Document(page_content=\": 122\\nReview_Date: 30 July 2023\\nAuthor: walfordior\\nRating: 9\\nReview_Title: This is more than just a 'lighthearted comedy'\\nReview: Barbie is no longer just a toy; rather, this idea of 'Barbie' has evolved into one of the most famous and significant topics in the world at this moment in time. It is so much more than merely a toy. It will not longer be just 'a toy'\\nReview_Url: /review/rw9199947/?ref_=tt_urv\", metadata={'source': '/review/rw9199947/?ref_=tt_urv', 'row': 122}),\n",
       "    Document(page_content='Barbie mainly for her character. Her speech was moving and she brought so much to her simple, yet relatable mom.', metadata={'source': '/review/rw9199947/?ref_=tt_urv', 'row': 119}),\n",
       "    Document(page_content=': 64\\nReview_Date: 22 July 2023\\nAuthor: fernandoschiavi\\nRating: 5\\nReview_Title: \"Barbie\" is fun and visually beautiful, but unfortunately Barbie doll was dragged into the cultural war, used as a puppet by political militancy', metadata={'source': '/review/rw9199947/?ref_=tt_urv', 'row': 64}),\n",
       "    Document(page_content=\": 39\\nReview_Date: 23 July 2023\\nAuthor: Anurag-Shetty\\nRating: 10\\nReview_Title: A wholesome delight!\\nReview: Barbie is based on Mattel's iconic plastic dolls of the same name. Barbie(Margot Robbie) lives a very happy life in Barbie Land, along with her fellow Barbies, Ken(Ryan Gosling) & his fellow Kens. Suddenly, Barbie goes through an existential crisis that makes her question Barbie Land & the truth of her existence.\\nReview_Url: /review/rw9199947/?ref_=tt_urv\", metadata={'source': '/review/rw9199947/?ref_=tt_urv', 'row': 39})])]}"
      ]
     },
     "execution_count": 24,
     "metadata": {},
     "output_type": "execute_result"
    }
   ],
   "source": [
    "barbie_retriever_agent_executor({\"input\" : \"Did people like Barbie, or did they find it too Philosphical? If they did, can you tell me why the movie is so Philosophical?\"})"
   ]
  },
  {
   "cell_type": "code",
   "execution_count": 25,
   "metadata": {},
   "outputs": [
    {
     "name": "stdout",
     "output_type": "stream",
     "text": [
      "\n",
      "\n",
      "\u001b[1m> Entering new AgentExecutor chain...\u001b[0m\n",
      "\u001b[32;1m\u001b[1;3m\n",
      "Invoking: `Barbie_Wiki` with `Barbie`\n",
      "\n",
      "\n",
      "\u001b[0m\u001b[36;1m\u001b[1;3m[Document(page_content='== Notable designers ==\\nKitty Black Perkins, creator of Black Barbie\\nCarol Spencer, Barbie fashion designer from 1963-1999\\n\\n\\n== See also ==\\nBarbie (media franchise)\\nBarbenheimer\\nCreatable World\\nKitty Black Perkins\\nLammily - a crowd funded alternative developed by Nickolay Lamm\\nList of Barbie animated films\\nList of Barbie video games\\nMy Scene\\nSindy\\nSuperstar: The Karen Carpenter Story\\nThe Most Popular Girls in School\\nTotally Hair Barbie\\n\\n\\n== References ==\\n\\n\\n== Notes ==', metadata={'title': 'Barbie', 'summary': 'Barbie is a fashion doll created by American businesswoman Ruth Handler, manufactured by American toy company Mattel and launched in 1959. The toy is the figurehead of the Barbie brand that includes a range of fashion dolls and accessories. Barbie has been an important part of the toy fashion doll market for over six decades. Mattel has sold over a billion Barbie dolls, making it the company\\'s largest and most profitable line. The brand has expanded into a multimedia franchise since the late 1980s, including video games, computer-animated films, and a live-action film.\\nBarbie and her male counterpart, Ken, have been described as the two most popular dolls in the world. Since its launch, Barbie has transformed the toy business in affluent communities globally by becoming a vehicle for the sale of related merchandise (accessories, clothes, friends and relatives of Barbie, etc.). Writing for Journal of Popular Culture in 1977, Don Richard Cox noted that Barbie has a significant impact on social values by conveying characteristics of female independence, and with her multitude of accessories, an idealized upscale lifestyle that can be shared with affluent friends.Sales of Barbie dolls declined sharply from 2014 to 2016. In 2020, Mattel sold $1.35 billion worth of Barbie dolls and accessories, and this was their best sales growth in two decades. This is an increase from the $950 million the brand sold during 2017. According to MarketWatch, the release of the 2023 film Barbie is expected to create \"significant growth\" for the brand until at least 2030. As well as reinvigorated sales, the release of the film has triggered a fashion trend known as \"Barbiecore\".', 'source': 'https://en.wikipedia.org/wiki/Barbie'})]\u001b[0m\u001b[32;1m\u001b[1;3mBarbie is a fashion doll created by American businesswoman Ruth Handler and manufactured by Mattel. The Barbie brand includes a range of fashion dolls and accessories and has been a significant part of the toy fashion doll market for over six decades. The brand has expanded into a multimedia franchise, including video games, computer-animated films, and a live-action film.\n",
      "\n",
      "Unfortunately, I couldn't find a specific summary of the plot for the Barbie movie. However, the movie is expected to create significant growth for the brand and has triggered a fashion trend known as \"Barbiecore.\"\u001b[0m\n",
      "\n",
      "\u001b[1m> Finished chain.\u001b[0m\n"
     ]
    },
    {
     "data": {
      "text/plain": [
       "{'input': 'What is a very quick summary of the plot of the Barbie movie?',\n",
       " 'chat_history': [HumanMessage(content='Did people like Barbie, or did they find it too Philosphical? If they did, can you tell me why the movie is so Philosophical?', additional_kwargs={}, example=False),\n",
       "  AIMessage(content='', additional_kwargs={'function_call': {'name': 'Barbie_Reviews', 'arguments': '{\\n  \"__arg1\": \"Barbie\"\\n}'}}, example=False),\n",
       "  FunctionMessage(content='[Document(page_content=\": 122\\\\nReview_Date: 30 July 2023\\\\nAuthor: walfordior\\\\nRating: 9\\\\nReview_Title: This is more than just a \\'lighthearted comedy\\'\\\\nReview: Barbie is no longer just a toy; rather, this idea of \\'Barbie\\' has evolved into one of the most famous and significant topics in the world at this moment in time. It is so much more than merely a toy. It will not longer be just \\'a toy\\'\\\\nReview_Url: /review/rw9199947/?ref_=tt_urv\", metadata={\\'source\\': \\'/review/rw9199947/?ref_=tt_urv\\', \\'row\\': 122}), Document(page_content=\\'Barbie mainly for her character. Her speech was moving and she brought so much to her simple, yet relatable mom.\\', metadata={\\'source\\': \\'/review/rw9199947/?ref_=tt_urv\\', \\'row\\': 119}), Document(page_content=\\': 64\\\\nReview_Date: 22 July 2023\\\\nAuthor: fernandoschiavi\\\\nRating: 5\\\\nReview_Title: \"Barbie\" is fun and visually beautiful, but unfortunately Barbie doll was dragged into the cultural war, used as a puppet by political militancy\\', metadata={\\'source\\': \\'/review/rw9199947/?ref_=tt_urv\\', \\'row\\': 64}), Document(page_content=\": 39\\\\nReview_Date: 23 July 2023\\\\nAuthor: Anurag-Shetty\\\\nRating: 10\\\\nReview_Title: A wholesome delight!\\\\nReview: Barbie is based on Mattel\\'s iconic plastic dolls of the same name. Barbie(Margot Robbie) lives a very happy life in Barbie Land, along with her fellow Barbies, Ken(Ryan Gosling) & his fellow Kens. Suddenly, Barbie goes through an existential crisis that makes her question Barbie Land & the truth of her existence.\\\\nReview_Url: /review/rw9199947/?ref_=tt_urv\", metadata={\\'source\\': \\'/review/rw9199947/?ref_=tt_urv\\', \\'row\\': 39})]', additional_kwargs={}, name='Barbie_Reviews'),\n",
       "  AIMessage(content='Based on the reviews I found, it seems that people had mixed opinions about the movie Barbie. Some viewers found the movie to be more than just a lighthearted comedy and appreciated its philosophical elements. They believed that the movie explored deeper themes and ideas beyond being just a toy. One reviewer mentioned that Barbie goes through an existential crisis that makes her question Barbie Land and the truth of her existence.\\n\\nHowever, there were also viewers who felt that the movie dragged Barbie into the cultural war and used her as a puppet for political militancy. They may have found the philosophical elements to be unnecessary or forced.\\n\\nOverall, it seems that the movie Barbie has philosophical elements that some viewers appreciated, while others may have found them to be less enjoyable or relevant to the story.', additional_kwargs={}, example=False),\n",
       "  HumanMessage(content='What is a very quick summary of the plot of the Barbie movie?', additional_kwargs={}, example=False),\n",
       "  AIMessage(content='', additional_kwargs={'function_call': {'name': 'Barbie_Wiki', 'arguments': '{\\n  \"__arg1\": \"Barbie\"\\n}'}}, example=False),\n",
       "  FunctionMessage(content='[Document(page_content=\\'== Notable designers ==\\\\nKitty Black Perkins, creator of Black Barbie\\\\nCarol Spencer, Barbie fashion designer from 1963-1999\\\\n\\\\n\\\\n== See also ==\\\\nBarbie (media franchise)\\\\nBarbenheimer\\\\nCreatable World\\\\nKitty Black Perkins\\\\nLammily - a crowd funded alternative developed by Nickolay Lamm\\\\nList of Barbie animated films\\\\nList of Barbie video games\\\\nMy Scene\\\\nSindy\\\\nSuperstar: The Karen Carpenter Story\\\\nThe Most Popular Girls in School\\\\nTotally Hair Barbie\\\\n\\\\n\\\\n== References ==\\\\n\\\\n\\\\n== Notes ==\\', metadata={\\'title\\': \\'Barbie\\', \\'summary\\': \\'Barbie is a fashion doll created by American businesswoman Ruth Handler, manufactured by American toy company Mattel and launched in 1959. The toy is the figurehead of the Barbie brand that includes a range of fashion dolls and accessories. Barbie has been an important part of the toy fashion doll market for over six decades. Mattel has sold over a billion Barbie dolls, making it the company\\\\\\'s largest and most profitable line. The brand has expanded into a multimedia franchise since the late 1980s, including video games, computer-animated films, and a live-action film.\\\\nBarbie and her male counterpart, Ken, have been described as the two most popular dolls in the world. Since its launch, Barbie has transformed the toy business in affluent communities globally by becoming a vehicle for the sale of related merchandise (accessories, clothes, friends and relatives of Barbie, etc.). Writing for Journal of Popular Culture in 1977, Don Richard Cox noted that Barbie has a significant impact on social values by conveying characteristics of female independence, and with her multitude of accessories, an idealized upscale lifestyle that can be shared with affluent friends.Sales of Barbie dolls declined sharply from 2014 to 2016. In 2020, Mattel sold $1.35 billion worth of Barbie dolls and accessories, and this was their best sales growth in two decades. This is an increase from the $950 million the brand sold during 2017. According to MarketWatch, the release of the 2023 film Barbie is expected to create \"significant growth\" for the brand until at least 2030. As well as reinvigorated sales, the release of the film has triggered a fashion trend known as \"Barbiecore\".\\', \\'source\\': \\'https://en.wikipedia.org/wiki/Barbie\\'})]', additional_kwargs={}, name='Barbie_Wiki'),\n",
       "  AIMessage(content='Barbie is a fashion doll created by American businesswoman Ruth Handler and manufactured by Mattel. The Barbie brand includes a range of fashion dolls and accessories and has been a significant part of the toy fashion doll market for over six decades. The brand has expanded into a multimedia franchise, including video games, computer-animated films, and a live-action film.\\n\\nUnfortunately, I couldn\\'t find a specific summary of the plot for the Barbie movie. However, the movie is expected to create significant growth for the brand and has triggered a fashion trend known as \"Barbiecore.\"', additional_kwargs={}, example=False)],\n",
       " 'output': 'Barbie is a fashion doll created by American businesswoman Ruth Handler and manufactured by Mattel. The Barbie brand includes a range of fashion dolls and accessories and has been a significant part of the toy fashion doll market for over six decades. The brand has expanded into a multimedia franchise, including video games, computer-animated films, and a live-action film.\\n\\nUnfortunately, I couldn\\'t find a specific summary of the plot for the Barbie movie. However, the movie is expected to create significant growth for the brand and has triggered a fashion trend known as \"Barbiecore.\"',\n",
       " 'intermediate_steps': [(_FunctionsAgentAction(tool='Barbie_Wiki', tool_input='Barbie', log='\\nInvoking: `Barbie_Wiki` with `Barbie`\\n\\n\\n', message_log=[AIMessage(content='', additional_kwargs={'function_call': {'name': 'Barbie_Wiki', 'arguments': '{\\n  \"__arg1\": \"Barbie\"\\n}'}}, example=False)]),\n",
       "   [Document(page_content='== Notable designers ==\\nKitty Black Perkins, creator of Black Barbie\\nCarol Spencer, Barbie fashion designer from 1963-1999\\n\\n\\n== See also ==\\nBarbie (media franchise)\\nBarbenheimer\\nCreatable World\\nKitty Black Perkins\\nLammily - a crowd funded alternative developed by Nickolay Lamm\\nList of Barbie animated films\\nList of Barbie video games\\nMy Scene\\nSindy\\nSuperstar: The Karen Carpenter Story\\nThe Most Popular Girls in School\\nTotally Hair Barbie\\n\\n\\n== References ==\\n\\n\\n== Notes ==', metadata={'title': 'Barbie', 'summary': 'Barbie is a fashion doll created by American businesswoman Ruth Handler, manufactured by American toy company Mattel and launched in 1959. The toy is the figurehead of the Barbie brand that includes a range of fashion dolls and accessories. Barbie has been an important part of the toy fashion doll market for over six decades. Mattel has sold over a billion Barbie dolls, making it the company\\'s largest and most profitable line. The brand has expanded into a multimedia franchise since the late 1980s, including video games, computer-animated films, and a live-action film.\\nBarbie and her male counterpart, Ken, have been described as the two most popular dolls in the world. Since its launch, Barbie has transformed the toy business in affluent communities globally by becoming a vehicle for the sale of related merchandise (accessories, clothes, friends and relatives of Barbie, etc.). Writing for Journal of Popular Culture in 1977, Don Richard Cox noted that Barbie has a significant impact on social values by conveying characteristics of female independence, and with her multitude of accessories, an idealized upscale lifestyle that can be shared with affluent friends.Sales of Barbie dolls declined sharply from 2014 to 2016. In 2020, Mattel sold $1.35 billion worth of Barbie dolls and accessories, and this was their best sales growth in two decades. This is an increase from the $950 million the brand sold during 2017. According to MarketWatch, the release of the 2023 film Barbie is expected to create \"significant growth\" for the brand until at least 2030. As well as reinvigorated sales, the release of the film has triggered a fashion trend known as \"Barbiecore\".', 'source': 'https://en.wikipedia.org/wiki/Barbie'})])]}"
      ]
     },
     "execution_count": 25,
     "metadata": {},
     "output_type": "execute_result"
    }
   ],
   "source": [
    "barbie_retriever_agent_executor({\"input\" : \"What is a very quick summary of the plot of the Barbie movie?\"})"
   ]
  },
  {
   "cell_type": "markdown",
   "metadata": {},
   "source": [
    "### Oppenheimer Retrieval System\n",
    "\n",
    "We're going to repourpose some of what we created previously, but this time we'll explore a different multi-source retrieval system."
   ]
  },
  {
   "cell_type": "code",
   "execution_count": 26,
   "metadata": {},
   "outputs": [
    {
     "name": "stderr",
     "output_type": "stream",
     "text": [
      "/Users/bnayak/miniconda3/envs/llmops-week1/lib/python3.11/site-packages/wikipedia/wikipedia.py:389: GuessedAtParserWarning: No parser was explicitly specified, so I'm using the best available HTML parser for this system (\"lxml\"). This usually isn't a problem, but if you run this code on another system, or in a different virtual environment, it may use a different parser and behave differently.\n",
      "\n",
      "The code that caused this warning is on line 389 of the file /Users/bnayak/miniconda3/envs/llmops-week1/lib/python3.11/site-packages/wikipedia/wikipedia.py. To get rid of this warning, pass the additional argument 'features=\"lxml\"' to the BeautifulSoup constructor.\n",
      "\n",
      "  lis = BeautifulSoup(html).find_all('li')\n"
     ]
    }
   ],
   "source": [
    "oppenheimer_wikipedia_docs = WikipediaLoader(\n",
    "    query=\"Oppenheimer (film)\", \n",
    "    load_max_docs=100, # YOUR CODE HERE, \n",
    "    doc_content_chars_max=100000 ### YOUR CODE HERE\n",
    "    ).load() ### YOUR CODE HERE\n",
    "\n",
    "oppenheimer_csv_docs = CSVLoader(\n",
    "    file_path=\"./oppenheimer_data/oppenheimer.csv\", ### YOUR CODE HERE, \n",
    "    source_column=\"Review_Url\" ### YOUR CODE HERE\n",
    "    ).load()### YOUR CODE HERE"
   ]
  },
  {
   "cell_type": "code",
   "execution_count": 27,
   "metadata": {},
   "outputs": [],
   "source": [
    "chunked_opp_wikipedia_docs = wikipedia_text_splitter.transform_documents(oppenheimer_wikipedia_docs)### YOUR CODE HERE\n",
    "chunked_opp_csv_docs = csv_text_splitter.transform_documents(oppenheimer_csv_docs)### YOUR CODE HERE"
   ]
  },
  {
   "cell_type": "code",
   "execution_count": 28,
   "metadata": {},
   "outputs": [],
   "source": [
    "opp_csv_faiss_retriever = FAISS.from_documents(chunked_opp_csv_docs, embedder).as_retriever() ### YOUR CODE HERE\n",
    "\n",
    "# set up BM25 retriever\n",
    "opp_wikipedia_bm25_retriever = BM25Retriever.from_documents(chunked_opp_wikipedia_docs) ### YOUR CODE HERE\n",
    "opp_wikipedia_bm25_retriever.k = 1\n",
    "\n",
    "# set up FAISS vector store\n",
    "opp_wikipedia_faiss_store = FAISS.from_documents(\n",
    "    chunked_opp_wikipedia_docs, embedder\n",
    ") ### YOUR CODE HERE\n",
    "opp_wikipedia_faiss_retriever = opp_wikipedia_faiss_store.as_retriever(search_kwargs={\"k\": 1})\n",
    "\n",
    "# set up ensemble retriever\n",
    "opp_ensemble_retriever = EnsembleRetriever(\n",
    "    retrievers=[opp_wikipedia_bm25_retriever, opp_wikipedia_faiss_retriever],\n",
    "    weights=[0.50, 0.50]\n",
    ") ### YOUR CODE HERE"
   ]
  },
  {
   "cell_type": "markdown",
   "metadata": {},
   "source": [
    "#### Multi-source chain\n",
    "\n",
    "We're going to allow the LLM to decide which information is most -> least valuable.\n",
    "\n",
    "The way we'll do this is with LangChain's rather powerful \"Expression Language\"!\n",
    "\n",
    "> HINT: You can leverage [this](https://python.langchain.com/docs/use_cases/question_answering/how_to/multiple_retrieval) resource if you get stuck - but experiment with different prompts/formats."
   ]
  },
  {
   "cell_type": "code",
   "execution_count": 29,
   "metadata": {},
   "outputs": [],
   "source": [
    "from langchain.prompts import ChatPromptTemplate\n",
    "\n",
    "system_message = \"\"\"Use the information from the below two sources to answer any questions.\n",
    "\n",
    "Source 1: public user reviews about the Oppenheimer movie\n",
    "<source1>\n",
    "{source1}\n",
    "</source1>\n",
    "\n",
    "Source 2: the wikipedia page for the Oppenheimer movie including the plot summary, cast, and production information\n",
    "<source2>\n",
    "{source2}\n",
    "</source2>\n",
    "\"\"\"\n",
    "\n",
    "prompt = ChatPromptTemplate.from_messages([(\"system\", system_message), (\"human\", \"{question}\")])"
   ]
  },
  {
   "cell_type": "code",
   "execution_count": 30,
   "metadata": {},
   "outputs": [],
   "source": [
    "oppenheimer_multisource_chain = {\n",
    "    \"source1\": (lambda x: x[\"question\"]) | opp_ensemble_retriever,\n",
    "    \"source2\": (lambda x: x[\"question\"]) | opp_csv_faiss_retriever,\n",
    "    \"question\": lambda x: x[\"question\"],\n",
    "} | prompt | llm"
   ]
  },
  {
   "cell_type": "code",
   "execution_count": 31,
   "metadata": {},
   "outputs": [
    {
     "data": {
      "text/plain": [
       "AIMessage(content='People generally thought highly of the Oppenheimer movie. It received critical acclaim and was praised for its compelling storytelling, engaging performances, and stunning cinematography. Reviewers described it as a \"masterpiece,\" \"magnificent,\" and \"one of the best films of the 21st century.\" The cast, including Cillian Murphy and Robert Downey Jr., was lauded for their phenomenal performances. Some reviewers mentioned that the film may have lacked emotional depth and missed certain aspects of Oppenheimer\\'s life and relationships, but overall, the movie was well-received.', additional_kwargs={}, example=False)"
      ]
     },
     "execution_count": 31,
     "metadata": {},
     "output_type": "execute_result"
    }
   ],
   "source": [
    "oppenheimer_multisource_chain.invoke({\"question\" : \"What did people think of the Oppenheimer movie?\"})"
   ]
  },
  {
   "cell_type": "markdown",
   "metadata": {},
   "source": [
    "# Agent Creation\n",
    "\n",
    "Now we can finally start building our Agent!\n",
    "\n",
    "The first thing we'll need to do is provide our Agent a Toolbelt. (list of tools). Much like Batman, our LLM-powered Agent can use these tools as it sees fit. \n",
    "\n",
    "While the examples we're constructing in this notebook are straightforward for brevity and simplicities sake - there is no limit to what you can build with Agents, as we'll see as we progress through the program.\n",
    "\n",
    "So, let's begin by setting up our Tools!\n",
    "\n",
    "You'll notice that we have to set up a function to allow our `OppenheimerInfo` tool to interface with the Agent - this is due to it have a specific required input. Creating custom tools is a pattern that you'll want to grow acustomed to as you use LangChain more and more."
   ]
  },
  {
   "cell_type": "code",
   "execution_count": 34,
   "metadata": {},
   "outputs": [],
   "source": [
    "from langchain.agents import Tool\n",
    "\n",
    "def query_oppenheimer(input):\n",
    "    return oppenheimer_multisource_chain.invoke({\"question\" : input})\n",
    "\n",
    "tools = [\n",
    "    Tool(\n",
    "        name ='BarbieTool', ### YOUR CODE HERE,\n",
    "        func=query_oppenheimer,### YOUR CODE HERE,\n",
    "        description='Useful for answering question about the Barbie movie'### YOUR CODE HERE\n",
    "    ),\n",
    "    Tool(\n",
    "        name = 'OppenheimerTool', ### YOUR CODE HERE,\n",
    "        func= query_oppenheimer, ### YOUR CODE HERE,\n",
    "        description= 'Useful for answering question about the Oppenheimer movie' ### YOUR CODE HERE\n",
    "    ),\n",
    "]"
   ]
  },
  {
   "cell_type": "markdown",
   "metadata": {},
   "source": [
    "Now that we've set up our Agents toolbelt, let's set up the LLM that will be powering it!\n",
    "\n",
    "I would suggest playing around with these prompts - and experiments to find what works best for you.\n",
    "\n",
    "RELEVANT DOCS:\n",
    "- [`ZeroShotAgent`](https://api.python.langchain.com/en/latest/agents/langchain.agents.mrkl.base.ZeroShotAgent.html#langchain-agents-mrkl-base-zeroshotagent)"
   ]
  },
  {
   "cell_type": "code",
   "execution_count": 35,
   "metadata": {},
   "outputs": [],
   "source": [
    "from langchain.agents import ZeroShotAgent, AgentExecutor\n",
    "\n",
    "prefix = \"\"\"Have a conversation with a human, answering the following questions as best you can. You have access to the following tools:\"\"\"\n",
    "suffix = \"\"\"Begin!\"\n",
    "\n",
    "Question: {input}\n",
    "{agent_scratchpad}\"\"\"\n",
    "\n",
    "prompt = ZeroShotAgent.create_prompt(\n",
    "    tools=tools,### YOUR CODE HERE\n",
    "    prefix=prefix,### YOUR CODE HERE\n",
    "    suffix=suffix,### YOUR CODE HERE\n",
    "    input_variables=[\"input\", \"agent_scratchpad\"]### YOUR CODE HERE\n",
    ")"
   ]
  },
  {
   "cell_type": "code",
   "execution_count": 36,
   "metadata": {},
   "outputs": [],
   "source": [
    "from langchain import LLMChain\n",
    "\n",
    "llm_chain = LLMChain(llm=llm, prompt=prompt) ### YOUR CODE HERE"
   ]
  },
  {
   "cell_type": "markdown",
   "metadata": {},
   "source": [
    "All that's left to do now is create our `ZeroShotAgent` and our `AgentExecutor`, which are the \"reasoner\" and \"actor\" halfs of the `ReAct` method of Agent implementation.\n",
    "\n",
    "Read all about the `ReAct` framework [here](https://react-lm.github.io/)"
   ]
  },
  {
   "cell_type": "code",
   "execution_count": 37,
   "metadata": {},
   "outputs": [],
   "source": [
    "barbenheimer_agent = ZeroShotAgent(\n",
    "    llm_chain=llm_chain,### YOUR AGENTS, \n",
    "    tools=tools,### YOUR AGENTS, \n",
    "    verbose=True)### YOUR AGENTS)\n",
    "\n",
    "barbenheimer_agent_chain = AgentExecutor.from_agent_and_tools(\n",
    "    agent=barbenheimer_agent,### YOUR AGENTS, \n",
    "    tools=tools,### YOUR AGENTS, \n",
    "    verbose=True)### YOUR AGENTS)"
   ]
  },
  {
   "cell_type": "markdown",
   "metadata": {},
   "source": [
    "## Conclusion\n",
    "\n",
    "All that is left to do now, is feed inputs to your Agent and watch it work!\n",
    "\n",
    "Remember to use the `{\"input\" : \"YOUR QUERY HERE\"}` format when prompting the Agent."
   ]
  },
  {
   "cell_type": "code",
   "execution_count": 38,
   "metadata": {},
   "outputs": [
    {
     "name": "stdout",
     "output_type": "stream",
     "text": [
      "\n",
      "\n",
      "\u001b[1m> Entering new AgentExecutor chain...\u001b[0m\n",
      "\u001b[32;1m\u001b[1;3mThought: I don't have any information about the Barbie movie, so I should use the BarbieTool to find out what people liked about it.\n",
      "Action: BarbieTool\n",
      "Action Input: \"What did people like about the Barbie movie?\"\u001b[0m\n",
      "Observation: \u001b[36;1m\u001b[1;3mcontent='There is no specific information available about what people liked about the Barbie movie in the provided sources.' additional_kwargs={} example=False\u001b[0m\n",
      "Thought:\u001b[32;1m\u001b[1;3mI couldn't find any specific information about what people liked about the Barbie movie. I should try using the OppenheimerTool instead to see if it has any relevant information.\n",
      "Action: OppenheimerTool\n",
      "Action Input: \"What did people like about the Barbie movie?\"\u001b[0m\n",
      "Observation: \u001b[33;1m\u001b[1;3mcontent='There is no specific information available about what people liked about the Barbie movie in the provided sources.' additional_kwargs={} example=False\u001b[0m\n",
      "Thought:"
     ]
    },
    {
     "ename": "OutputParserException",
     "evalue": "Could not parse LLM output: `I couldn't find any specific information about what people liked about the Barbie movie using either tool. I don't have enough information to provide a final answer to the question.`",
     "output_type": "error",
     "traceback": [
      "\u001b[0;31m---------------------------------------------------------------------------\u001b[0m",
      "\u001b[0;31mOutputParserException\u001b[0m                     Traceback (most recent call last)",
      "Cell \u001b[0;32mIn[38], line 1\u001b[0m\n\u001b[0;32m----> 1\u001b[0m barbenheimer_agent_chain\u001b[39m.\u001b[39;49minvoke({\u001b[39m\"\u001b[39;49m\u001b[39minput\u001b[39;49m\u001b[39m\"\u001b[39;49m : \u001b[39m\"\u001b[39;49m\u001b[39mWhat did people like about the Barbie movie?\u001b[39;49m\u001b[39m\"\u001b[39;49m})\n",
      "File \u001b[0;32m~/miniconda3/envs/llmops-week1/lib/python3.11/site-packages/langchain/chains/base.py:66\u001b[0m, in \u001b[0;36mChain.invoke\u001b[0;34m(self, input, config, **kwargs)\u001b[0m\n\u001b[1;32m     59\u001b[0m \u001b[39mdef\u001b[39;00m \u001b[39minvoke\u001b[39m(\n\u001b[1;32m     60\u001b[0m     \u001b[39mself\u001b[39m,\n\u001b[1;32m     61\u001b[0m     \u001b[39minput\u001b[39m: Dict[\u001b[39mstr\u001b[39m, Any],\n\u001b[1;32m     62\u001b[0m     config: Optional[RunnableConfig] \u001b[39m=\u001b[39m \u001b[39mNone\u001b[39;00m,\n\u001b[1;32m     63\u001b[0m     \u001b[39m*\u001b[39m\u001b[39m*\u001b[39mkwargs: Any,\n\u001b[1;32m     64\u001b[0m ) \u001b[39m-\u001b[39m\u001b[39m>\u001b[39m Dict[\u001b[39mstr\u001b[39m, Any]:\n\u001b[1;32m     65\u001b[0m     config \u001b[39m=\u001b[39m config \u001b[39mor\u001b[39;00m {}\n\u001b[0;32m---> 66\u001b[0m     \u001b[39mreturn\u001b[39;00m \u001b[39mself\u001b[39;49m(\n\u001b[1;32m     67\u001b[0m         \u001b[39minput\u001b[39;49m,\n\u001b[1;32m     68\u001b[0m         callbacks\u001b[39m=\u001b[39;49mconfig\u001b[39m.\u001b[39;49mget(\u001b[39m\"\u001b[39;49m\u001b[39mcallbacks\u001b[39;49m\u001b[39m\"\u001b[39;49m),\n\u001b[1;32m     69\u001b[0m         tags\u001b[39m=\u001b[39;49mconfig\u001b[39m.\u001b[39;49mget(\u001b[39m\"\u001b[39;49m\u001b[39mtags\u001b[39;49m\u001b[39m\"\u001b[39;49m),\n\u001b[1;32m     70\u001b[0m         metadata\u001b[39m=\u001b[39;49mconfig\u001b[39m.\u001b[39;49mget(\u001b[39m\"\u001b[39;49m\u001b[39mmetadata\u001b[39;49m\u001b[39m\"\u001b[39;49m),\n\u001b[1;32m     71\u001b[0m         \u001b[39m*\u001b[39;49m\u001b[39m*\u001b[39;49mkwargs,\n\u001b[1;32m     72\u001b[0m     )\n",
      "File \u001b[0;32m~/miniconda3/envs/llmops-week1/lib/python3.11/site-packages/langchain/chains/base.py:282\u001b[0m, in \u001b[0;36mChain.__call__\u001b[0;34m(self, inputs, return_only_outputs, callbacks, tags, metadata, include_run_info)\u001b[0m\n\u001b[1;32m    280\u001b[0m \u001b[39mexcept\u001b[39;00m (\u001b[39mKeyboardInterrupt\u001b[39;00m, \u001b[39mException\u001b[39;00m) \u001b[39mas\u001b[39;00m e:\n\u001b[1;32m    281\u001b[0m     run_manager\u001b[39m.\u001b[39mon_chain_error(e)\n\u001b[0;32m--> 282\u001b[0m     \u001b[39mraise\u001b[39;00m e\n\u001b[1;32m    283\u001b[0m run_manager\u001b[39m.\u001b[39mon_chain_end(outputs)\n\u001b[1;32m    284\u001b[0m final_outputs: Dict[\u001b[39mstr\u001b[39m, Any] \u001b[39m=\u001b[39m \u001b[39mself\u001b[39m\u001b[39m.\u001b[39mprep_outputs(\n\u001b[1;32m    285\u001b[0m     inputs, outputs, return_only_outputs\n\u001b[1;32m    286\u001b[0m )\n",
      "File \u001b[0;32m~/miniconda3/envs/llmops-week1/lib/python3.11/site-packages/langchain/chains/base.py:276\u001b[0m, in \u001b[0;36mChain.__call__\u001b[0;34m(self, inputs, return_only_outputs, callbacks, tags, metadata, include_run_info)\u001b[0m\n\u001b[1;32m    270\u001b[0m run_manager \u001b[39m=\u001b[39m callback_manager\u001b[39m.\u001b[39mon_chain_start(\n\u001b[1;32m    271\u001b[0m     dumpd(\u001b[39mself\u001b[39m),\n\u001b[1;32m    272\u001b[0m     inputs,\n\u001b[1;32m    273\u001b[0m )\n\u001b[1;32m    274\u001b[0m \u001b[39mtry\u001b[39;00m:\n\u001b[1;32m    275\u001b[0m     outputs \u001b[39m=\u001b[39m (\n\u001b[0;32m--> 276\u001b[0m         \u001b[39mself\u001b[39;49m\u001b[39m.\u001b[39;49m_call(inputs, run_manager\u001b[39m=\u001b[39;49mrun_manager)\n\u001b[1;32m    277\u001b[0m         \u001b[39mif\u001b[39;00m new_arg_supported\n\u001b[1;32m    278\u001b[0m         \u001b[39melse\u001b[39;00m \u001b[39mself\u001b[39m\u001b[39m.\u001b[39m_call(inputs)\n\u001b[1;32m    279\u001b[0m     )\n\u001b[1;32m    280\u001b[0m \u001b[39mexcept\u001b[39;00m (\u001b[39mKeyboardInterrupt\u001b[39;00m, \u001b[39mException\u001b[39;00m) \u001b[39mas\u001b[39;00m e:\n\u001b[1;32m    281\u001b[0m     run_manager\u001b[39m.\u001b[39mon_chain_error(e)\n",
      "File \u001b[0;32m~/miniconda3/envs/llmops-week1/lib/python3.11/site-packages/langchain/agents/agent.py:1036\u001b[0m, in \u001b[0;36mAgentExecutor._call\u001b[0;34m(self, inputs, run_manager)\u001b[0m\n\u001b[1;32m   1034\u001b[0m \u001b[39m# We now enter the agent loop (until it returns something).\u001b[39;00m\n\u001b[1;32m   1035\u001b[0m \u001b[39mwhile\u001b[39;00m \u001b[39mself\u001b[39m\u001b[39m.\u001b[39m_should_continue(iterations, time_elapsed):\n\u001b[0;32m-> 1036\u001b[0m     next_step_output \u001b[39m=\u001b[39m \u001b[39mself\u001b[39;49m\u001b[39m.\u001b[39;49m_take_next_step(\n\u001b[1;32m   1037\u001b[0m         name_to_tool_map,\n\u001b[1;32m   1038\u001b[0m         color_mapping,\n\u001b[1;32m   1039\u001b[0m         inputs,\n\u001b[1;32m   1040\u001b[0m         intermediate_steps,\n\u001b[1;32m   1041\u001b[0m         run_manager\u001b[39m=\u001b[39;49mrun_manager,\n\u001b[1;32m   1042\u001b[0m     )\n\u001b[1;32m   1043\u001b[0m     \u001b[39mif\u001b[39;00m \u001b[39misinstance\u001b[39m(next_step_output, AgentFinish):\n\u001b[1;32m   1044\u001b[0m         \u001b[39mreturn\u001b[39;00m \u001b[39mself\u001b[39m\u001b[39m.\u001b[39m_return(\n\u001b[1;32m   1045\u001b[0m             next_step_output, intermediate_steps, run_manager\u001b[39m=\u001b[39mrun_manager\n\u001b[1;32m   1046\u001b[0m         )\n",
      "File \u001b[0;32m~/miniconda3/envs/llmops-week1/lib/python3.11/site-packages/langchain/agents/agent.py:844\u001b[0m, in \u001b[0;36mAgentExecutor._take_next_step\u001b[0;34m(self, name_to_tool_map, color_mapping, inputs, intermediate_steps, run_manager)\u001b[0m\n\u001b[1;32m    842\u001b[0m     raise_error \u001b[39m=\u001b[39m \u001b[39mFalse\u001b[39;00m\n\u001b[1;32m    843\u001b[0m \u001b[39mif\u001b[39;00m raise_error:\n\u001b[0;32m--> 844\u001b[0m     \u001b[39mraise\u001b[39;00m e\n\u001b[1;32m    845\u001b[0m text \u001b[39m=\u001b[39m \u001b[39mstr\u001b[39m(e)\n\u001b[1;32m    846\u001b[0m \u001b[39mif\u001b[39;00m \u001b[39misinstance\u001b[39m(\u001b[39mself\u001b[39m\u001b[39m.\u001b[39mhandle_parsing_errors, \u001b[39mbool\u001b[39m):\n",
      "File \u001b[0;32m~/miniconda3/envs/llmops-week1/lib/python3.11/site-packages/langchain/agents/agent.py:833\u001b[0m, in \u001b[0;36mAgentExecutor._take_next_step\u001b[0;34m(self, name_to_tool_map, color_mapping, inputs, intermediate_steps, run_manager)\u001b[0m\n\u001b[1;32m    830\u001b[0m     intermediate_steps \u001b[39m=\u001b[39m \u001b[39mself\u001b[39m\u001b[39m.\u001b[39m_prepare_intermediate_steps(intermediate_steps)\n\u001b[1;32m    832\u001b[0m     \u001b[39m# Call the LLM to see what to do.\u001b[39;00m\n\u001b[0;32m--> 833\u001b[0m     output \u001b[39m=\u001b[39m \u001b[39mself\u001b[39;49m\u001b[39m.\u001b[39;49magent\u001b[39m.\u001b[39;49mplan(\n\u001b[1;32m    834\u001b[0m         intermediate_steps,\n\u001b[1;32m    835\u001b[0m         callbacks\u001b[39m=\u001b[39;49mrun_manager\u001b[39m.\u001b[39;49mget_child() \u001b[39mif\u001b[39;49;00m run_manager \u001b[39melse\u001b[39;49;00m \u001b[39mNone\u001b[39;49;00m,\n\u001b[1;32m    836\u001b[0m         \u001b[39m*\u001b[39;49m\u001b[39m*\u001b[39;49minputs,\n\u001b[1;32m    837\u001b[0m     )\n\u001b[1;32m    838\u001b[0m \u001b[39mexcept\u001b[39;00m OutputParserException \u001b[39mas\u001b[39;00m e:\n\u001b[1;32m    839\u001b[0m     \u001b[39mif\u001b[39;00m \u001b[39misinstance\u001b[39m(\u001b[39mself\u001b[39m\u001b[39m.\u001b[39mhandle_parsing_errors, \u001b[39mbool\u001b[39m):\n",
      "File \u001b[0;32m~/miniconda3/envs/llmops-week1/lib/python3.11/site-packages/langchain/agents/agent.py:457\u001b[0m, in \u001b[0;36mAgent.plan\u001b[0;34m(self, intermediate_steps, callbacks, **kwargs)\u001b[0m\n\u001b[1;32m    455\u001b[0m full_inputs \u001b[39m=\u001b[39m \u001b[39mself\u001b[39m\u001b[39m.\u001b[39mget_full_inputs(intermediate_steps, \u001b[39m*\u001b[39m\u001b[39m*\u001b[39mkwargs)\n\u001b[1;32m    456\u001b[0m full_output \u001b[39m=\u001b[39m \u001b[39mself\u001b[39m\u001b[39m.\u001b[39mllm_chain\u001b[39m.\u001b[39mpredict(callbacks\u001b[39m=\u001b[39mcallbacks, \u001b[39m*\u001b[39m\u001b[39m*\u001b[39mfull_inputs)\n\u001b[0;32m--> 457\u001b[0m \u001b[39mreturn\u001b[39;00m \u001b[39mself\u001b[39;49m\u001b[39m.\u001b[39;49moutput_parser\u001b[39m.\u001b[39;49mparse(full_output)\n",
      "File \u001b[0;32m~/miniconda3/envs/llmops-week1/lib/python3.11/site-packages/langchain/agents/mrkl/output_parser.py:52\u001b[0m, in \u001b[0;36mMRKLOutputParser.parse\u001b[0;34m(self, text)\u001b[0m\n\u001b[1;32m     47\u001b[0m     \u001b[39mreturn\u001b[39;00m AgentFinish(\n\u001b[1;32m     48\u001b[0m         {\u001b[39m\"\u001b[39m\u001b[39moutput\u001b[39m\u001b[39m\"\u001b[39m: text\u001b[39m.\u001b[39msplit(FINAL_ANSWER_ACTION)[\u001b[39m-\u001b[39m\u001b[39m1\u001b[39m]\u001b[39m.\u001b[39mstrip()}, text\n\u001b[1;32m     49\u001b[0m     )\n\u001b[1;32m     51\u001b[0m \u001b[39mif\u001b[39;00m \u001b[39mnot\u001b[39;00m re\u001b[39m.\u001b[39msearch(\u001b[39mr\u001b[39m\u001b[39m\"\u001b[39m\u001b[39mAction\u001b[39m\u001b[39m\\\u001b[39m\u001b[39ms*\u001b[39m\u001b[39m\\\u001b[39m\u001b[39md*\u001b[39m\u001b[39m\\\u001b[39m\u001b[39ms*:[\u001b[39m\u001b[39m\\\u001b[39m\u001b[39ms]*(.*?)\u001b[39m\u001b[39m\"\u001b[39m, text, re\u001b[39m.\u001b[39mDOTALL):\n\u001b[0;32m---> 52\u001b[0m     \u001b[39mraise\u001b[39;00m OutputParserException(\n\u001b[1;32m     53\u001b[0m         \u001b[39mf\u001b[39m\u001b[39m\"\u001b[39m\u001b[39mCould not parse LLM output: `\u001b[39m\u001b[39m{\u001b[39;00mtext\u001b[39m}\u001b[39;00m\u001b[39m`\u001b[39m\u001b[39m\"\u001b[39m,\n\u001b[1;32m     54\u001b[0m         observation\u001b[39m=\u001b[39mMISSING_ACTION_AFTER_THOUGHT_ERROR_MESSAGE,\n\u001b[1;32m     55\u001b[0m         llm_output\u001b[39m=\u001b[39mtext,\n\u001b[1;32m     56\u001b[0m         send_to_llm\u001b[39m=\u001b[39m\u001b[39mTrue\u001b[39;00m,\n\u001b[1;32m     57\u001b[0m     )\n\u001b[1;32m     58\u001b[0m \u001b[39melif\u001b[39;00m \u001b[39mnot\u001b[39;00m re\u001b[39m.\u001b[39msearch(\n\u001b[1;32m     59\u001b[0m     \u001b[39mr\u001b[39m\u001b[39m\"\u001b[39m\u001b[39m[\u001b[39m\u001b[39m\\\u001b[39m\u001b[39ms]*Action\u001b[39m\u001b[39m\\\u001b[39m\u001b[39ms*\u001b[39m\u001b[39m\\\u001b[39m\u001b[39md*\u001b[39m\u001b[39m\\\u001b[39m\u001b[39ms*Input\u001b[39m\u001b[39m\\\u001b[39m\u001b[39ms*\u001b[39m\u001b[39m\\\u001b[39m\u001b[39md*\u001b[39m\u001b[39m\\\u001b[39m\u001b[39ms*:[\u001b[39m\u001b[39m\\\u001b[39m\u001b[39ms]*(.*)\u001b[39m\u001b[39m\"\u001b[39m, text, re\u001b[39m.\u001b[39mDOTALL\n\u001b[1;32m     60\u001b[0m ):\n\u001b[1;32m     61\u001b[0m     \u001b[39mraise\u001b[39;00m OutputParserException(\n\u001b[1;32m     62\u001b[0m         \u001b[39mf\u001b[39m\u001b[39m\"\u001b[39m\u001b[39mCould not parse LLM output: `\u001b[39m\u001b[39m{\u001b[39;00mtext\u001b[39m}\u001b[39;00m\u001b[39m`\u001b[39m\u001b[39m\"\u001b[39m,\n\u001b[1;32m     63\u001b[0m         observation\u001b[39m=\u001b[39mMISSING_ACTION_INPUT_AFTER_ACTION_ERROR_MESSAGE,\n\u001b[1;32m     64\u001b[0m         llm_output\u001b[39m=\u001b[39mtext,\n\u001b[1;32m     65\u001b[0m         send_to_llm\u001b[39m=\u001b[39m\u001b[39mTrue\u001b[39;00m,\n\u001b[1;32m     66\u001b[0m     )\n",
      "\u001b[0;31mOutputParserException\u001b[0m: Could not parse LLM output: `I couldn't find any specific information about what people liked about the Barbie movie using either tool. I don't have enough information to provide a final answer to the question.`"
     ]
    }
   ],
   "source": [
    "barbenheimer_agent_chain.invoke({\"input\" : \"What did people like about the Barbie movie?\"})"
   ]
  },
  {
   "cell_type": "code",
   "execution_count": 39,
   "metadata": {},
   "outputs": [
    {
     "name": "stdout",
     "output_type": "stream",
     "text": [
      "\n",
      "\n",
      "\u001b[1m> Entering new AgentExecutor chain...\u001b[0m\n",
      "\u001b[32;1m\u001b[1;3mThought: I don't have enough information to answer this question.\n",
      "Action: OppenheimerTool\n",
      "Action Input: \"What did people like about the Oppenheimer movie?\"\u001b[0m\n",
      "Observation: \u001b[33;1m\u001b[1;3mcontent='Based on the information from the sources, people liked several aspects of the Oppenheimer movie. Here are some of the positive points mentioned:\\n\\n1. Compelling and engaging storytelling: The movie was praised for making the complicated story of J. Robert Oppenheimer compelling and easy to understand.\\n\\n2. Phenomenal performances: The actors, including Cillian Murphy and Robert Downey Jr., were praised for their phenomenal performances.\\n\\n3. Beautiful cinematography: The cinematography was described as beautifully crafted, adding to the overall enjoyment of the film.\\n\\n4. Historical interest: The movie sparked an interest in history, encouraging viewers to learn more about the subject.\\n\\n5. Emotional impact: While some reviewers felt that the movie lacked emotion, others found it to be conflicting, fantasizing, and thought-provoking. The internal conflicts and personal matters faced by Oppenheimer were highlighted.\\n\\n6. Dialogue and character drama: Despite being driven by dialogue and character drama, the movie managed to captivate viewers and keep them engaged throughout.\\n\\n7. Sense of satisfaction: Many viewers walked out of the movie with a sense of satisfaction, indicating that it met their expectations and provided a fulfilling experience.\\n\\nOverall, the Oppenheimer movie received widespread critical acclaim, with praise for its performances, storytelling, visuals, and historical significance.' additional_kwargs={} example=False\u001b[0m\n",
      "Thought:\u001b[32;1m\u001b[1;3mI now know the final answer.\n",
      "Final Answer: People liked several aspects of the Oppenheimer movie, including its compelling storytelling, phenomenal performances, beautiful cinematography, historical interest, emotional impact, dialogue and character drama, and sense of satisfaction.\u001b[0m\n",
      "\n",
      "\u001b[1m> Finished chain.\u001b[0m\n"
     ]
    },
    {
     "data": {
      "text/plain": [
       "'People liked several aspects of the Oppenheimer movie, including its compelling storytelling, phenomenal performances, beautiful cinematography, historical interest, emotional impact, dialogue and character drama, and sense of satisfaction.'"
      ]
     },
     "execution_count": 39,
     "metadata": {},
     "output_type": "execute_result"
    }
   ],
   "source": [
    "barbenheimer_agent_chain.run({\"input\" : \"What did people like about the Oppenheimer movie?\"})"
   ]
  },
  {
   "cell_type": "code",
   "execution_count": 40,
   "metadata": {},
   "outputs": [
    {
     "name": "stdout",
     "output_type": "stream",
     "text": [
      "\n",
      "\n",
      "\u001b[1m> Entering new AgentExecutor chain...\u001b[0m\n",
      "\u001b[32;1m\u001b[1;3mThought: I need to find out if the movies Barbie and Oppenheimer share similar themes or ideas.\n",
      "Action: BarbieTool\n",
      "Action Input: \"similar themes or ideas between Barbie and Oppenheimer\"\u001b[0m\n",
      "Observation: \u001b[36;1m\u001b[1;3mcontent=\"According to the information provided, both Barbie and Oppenheimer explore similar themes and ideas. They both delve into existentialism and the theoretical notion of the Anthropocene, which is the geological epoch defined by humanity's impact. Additionally, both films are said to examine the corruptibility of men and the relationship between imagination and reality. Both films have also been analyzed as exploring the core ideas of the 20th century, such as accelerating militarism and unbounded consumption.\" additional_kwargs={} example=False\u001b[0m\n",
      "Thought:\u001b[32;1m\u001b[1;3mBased on the information provided by the BarbieTool, it seems that both Barbie and Oppenheimer share similar themes and ideas. They both explore existentialism, the concept of the Anthropocene, the corruptibility of men, and the relationship between imagination and reality. They also delve into the core ideas of the 20th century, such as militarism and consumption. \n",
      "Final Answer: Yes, the movies Barbie and Oppenheimer share similar themes and ideas.\u001b[0m\n",
      "\n",
      "\u001b[1m> Finished chain.\u001b[0m\n"
     ]
    },
    {
     "data": {
      "text/plain": [
       "'Yes, the movies Barbie and Oppenheimer share similar themes and ideas.'"
      ]
     },
     "execution_count": 40,
     "metadata": {},
     "output_type": "execute_result"
    }
   ],
   "source": [
    "barbenheimer_agent_chain.run({\"input\" : \"Did the movies Barbie and Oppenheimer share similar themes or ideas?\"})"
   ]
  },
  {
   "cell_type": "markdown",
   "metadata": {},
   "source": [
    "## Next Steps\n",
    "\n",
    "It's time to build a Chainlit (or Gradio) application and host it on Hugging Face Spaces! :ship:"
   ]
  }
 ],
 "metadata": {
  "kernelspec": {
   "display_name": "barbenheimer-week-1",
   "language": "python",
   "name": "python3"
  },
  "language_info": {
   "codemirror_mode": {
    "name": "ipython",
    "version": 3
   },
   "file_extension": ".py",
   "mimetype": "text/x-python",
   "name": "python",
   "nbconvert_exporter": "python",
   "pygments_lexer": "ipython3",
   "version": "3.11.4"
  },
  "orig_nbformat": 4
 },
 "nbformat": 4,
 "nbformat_minor": 2
}
